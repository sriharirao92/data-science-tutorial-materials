{
 "cells": [
  {
   "cell_type": "markdown",
   "metadata": {
    "deletable": true,
    "editable": true
   },
   "source": [
    "# Introduction to web scraping with Python\n",
    "Web scraping examples from the [blog post](https://datawhatnow.com/introduction-web-scraping-python/) about web scraping."
   ]
  },
  {
   "cell_type": "markdown",
   "metadata": {
    "deletable": true,
    "editable": true
   },
   "source": [
    "## Initialise libraries\n",
    " For web scraping we will use [requests](http://docs.python-requests.org/en/master/) and [lxml](http://lxml.de/)."
   ]
  },
  {
   "cell_type": "code",
   "execution_count": 1,
   "metadata": {
    "collapsed": false,
    "deletable": true,
    "editable": true
   },
   "outputs": [],
   "source": [
    "import requests\n",
    "from lxml import html"
   ]
  },
  {
   "cell_type": "markdown",
   "metadata": {
    "deletable": true,
    "editable": true
   },
   "source": [
    "## Web scraping\n",
    "The [datawhatnow](https://www.datawhatnow.com) website is used for scraping. First we have to request the website's HTML code using request and parse it with lxml. To simplify this approach we will use the **get_parsed_page** function."
   ]
  },
  {
   "cell_type": "code",
   "execution_count": 2,
   "metadata": {
    "collapsed": false,
    "deletable": true,
    "editable": true
   },
   "outputs": [],
   "source": [
    "url = 'https://www.datawhatnow.com'\n",
    "\n",
    "def get_parsed_page(url):\n",
    "    \"\"\"Return the content of the website on the given url in\n",
    "    a parsed lxml format that is easy to query.\"\"\"\n",
    "    \n",
    "    response = requests.get(url)\n",
    "    parsed_page = html.fromstring(response.content)\n",
    "    return parsed_page\n",
    "\n",
    "parsed_page = get_parsed_page(url)"
   ]
  },
  {
   "cell_type": "markdown",
   "metadata": {
    "deletable": true,
    "editable": true
   },
   "source": [
    "Data is extracted using xpath queries, the website title is found in an a tag with a h1 parent tag - '//h1/a/text()'."
   ]
  },
  {
   "cell_type": "code",
   "execution_count": 3,
   "metadata": {
    "collapsed": false,
    "deletable": true,
    "editable": true
   },
   "outputs": [
    {
     "data": {
      "text/plain": [
       "['Data, what now?']"
      ]
     },
     "execution_count": 3,
     "metadata": {},
     "output_type": "execute_result"
    }
   ],
   "source": [
    "# Print website title\n",
    "parsed_page.xpath('//h1/a/text()')"
   ]
  },
  {
   "cell_type": "code",
   "execution_count": 4,
   "metadata": {
    "collapsed": false,
    "deletable": true,
    "editable": true
   },
   "outputs": [
    {
     "data": {
      "text/plain": [
       "['SimHash for question deduplication',\n",
       " 'Feature importance and why it’s important']"
      ]
     },
     "execution_count": 4,
     "metadata": {},
     "output_type": "execute_result"
    }
   ],
   "source": [
    "# Print post names\n",
    "parsed_page.xpath('//h2/a/text()')\n",
    "\n",
    "['SimHash for question deduplication',\n",
    " 'Feature importance and why it’s important']"
   ]
  },
  {
   "cell_type": "markdown",
   "metadata": {
    "deletable": true,
    "editable": true
   },
   "source": [
    "## Crawling\n",
    "Using the program to scrap multiple pages."
   ]
  },
  {
   "cell_type": "code",
   "execution_count": 5,
   "metadata": {
    "collapsed": false,
    "deletable": true,
    "editable": true
   },
   "outputs": [
    {
     "name": "stdout",
     "output_type": "stream",
     "text": [
      "Post url: https://datawhatnow.com/simhash-question-deduplicatoin/\n",
      " \n",
      "  SimHash \n",
      "  Features \n",
      "  Model performance \n",
      "  Conclusion \n",
      "  References \n",
      "  Leave a Reply  \n",
      "  GitHub \n",
      "  Newsletter \n",
      "  Recent Posts \n",
      "  Archives\n",
      "\n",
      "Post url: https://datawhatnow.com/feature-importance/\n",
      " \n",
      "  Data exploration \n",
      "  Feature engineering \n",
      "  Baseline model performance \n",
      "  Feature importance \n",
      "  Model performance with feature importance analysis \n",
      "  Conclusion \n",
      "  Leave a Reply  \n",
      "  GitHub \n",
      "  Newsletter \n",
      "  Recent Posts \n",
      "  Archives\n",
      "\n"
     ]
    }
   ],
   "source": [
    "# Getting paragraph titles in blog posts\n",
    "post_urls = parsed_page.xpath('//h2//a/@href')\n",
    "\n",
    "for post_url in post_urls:\n",
    "    print('Post url:', post_url)\n",
    "    \n",
    "    parsed_post_page = get_parsed_page(post_url)\n",
    "    paragraph_titles = parsed_post_page.xpath('//h3/text()')\n",
    "    \n",
    "    paragraph_titles = map(lambda x: ' \\n  ' + x, paragraph_titles)    \n",
    "    print(''.join(paragraph_titles) + '\\n')"
   ]
  },
  {
   "cell_type": "code",
   "execution_count": 6,
   "metadata": {
    "collapsed": false,
    "deletable": true,
    "editable": true
   },
   "outputs": [
    {
     "name": "stdout",
     "output_type": "stream",
     "text": [
      "Post url: https://datawhatnow.com/simhash-question-deduplicatoin/\n",
      " \n",
      "  SimHash \n",
      "  Features \n",
      "  Model performance \n",
      "  Conclusion \n",
      "  References\n",
      "\n",
      "Post url: https://datawhatnow.com/feature-importance/\n",
      " \n",
      "  Data exploration \n",
      "  Feature engineering \n",
      "  Baseline model performance \n",
      "  Feature importance \n",
      "  Model performance with feature importance analysis \n",
      "  Conclusion\n",
      "\n"
     ]
    }
   ],
   "source": [
    "# Fixed XPath query\n",
    "\n",
    "for post_url in post_urls:\n",
    "    print('Post url:', post_url)\n",
    "    \n",
    "    parsed_post_page = get_parsed_page(post_url)\n",
    "    paragraph_title_xpath = '//div[@class=\"entry-content\"]/h3/text()'\n",
    "    paragraph_titles = parsed_post_page.xpath(paragraph_title_xpath)\n",
    "    \n",
    "    paragraph_titles = map(lambda x: ' \\n  ' + x, paragraph_titles)\n",
    "    print(''.join(paragraph_titles) + '\\n')"
   ]
  },
  {
   "cell_type": "code",
   "execution_count": null,
   "metadata": {
    "collapsed": true,
    "deletable": true,
    "editable": true
   },
   "outputs": [],
   "source": []
  }
 ],
 "metadata": {
  "kernelspec": {
   "display_name": "Python 3",
   "language": "python",
   "name": "python3"
  },
  "language_info": {
   "codemirror_mode": {
    "name": "ipython",
    "version": 3
   },
   "file_extension": ".py",
   "mimetype": "text/x-python",
   "name": "python",
   "nbconvert_exporter": "python",
   "pygments_lexer": "ipython3",
   "version": "3.5.2"
  }
 },
 "nbformat": 4,
 "nbformat_minor": 2
}
