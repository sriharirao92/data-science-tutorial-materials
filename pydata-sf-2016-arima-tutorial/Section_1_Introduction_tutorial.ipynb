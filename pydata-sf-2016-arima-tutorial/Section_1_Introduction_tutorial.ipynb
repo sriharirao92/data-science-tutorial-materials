{
 "cells": [
  {
   "cell_type": "markdown",
   "metadata": {},
   "source": [
    "<img src=\"img/svds_logo.png\" alt=\"SVDS\" width=\"500\" align=\"left\">"
   ]
  },
  {
   "cell_type": "markdown",
   "metadata": {},
   "source": [
    "# PyData San Francisco 2016\n",
    "## Applied Time Series Econometrics in Python (and R) Tutorial"
   ]
  },
  {
   "cell_type": "markdown",
   "metadata": {},
   "source": [
    "# Abstract\n",
    "\n",
    "Time series data is ubiquitous, both within and outside of the data science field: weekly initial unemployment claims, tick level stock prices, weekly company sales, daily number of steps taken recorded by a wearable, just to name a few. Some of the most important and commonly used data science techniques to analyze time series data are those in developed in the field of statistics. For this reason, time series statistical models should be included in any data scientist's toolkit.\n",
    "\n",
    "This 120-minute tutorial covers the mathematical formulation, statistical foundation, and practical considerations of one of the most important classes of time series models: AutoRegression Integrated Moving Average with Explanatory Variables (ARIMAX) models, and its Seasonal counterpart (SARIMAX)."
   ]
  },
  {
   "cell_type": "markdown",
   "metadata": {},
   "source": [
    "# Topics included in the Tutorial\n",
    "\n",
    "- Common use cases of SARIMAX\n",
    "- The entire class of SARIMAX models, which include Autoregressive (AR) models, Moving Average (MA) models, Mixed Autoregressive Moving Average (ARMA) models, Autoregressive Integrated Moving Average (ARIMA) models, these models with explanatory variables (e.g. ARIMAX), and these models with seasonal components and explanatory variables (SARIMAX)\n",
    "- Mathematical formulation\n",
    "- Underlying assumptions of this class of model\n",
    "- Implementation of these models in Python and R, in which I will compare and contrast the two, using simulated and real-world time-series data, which includes\n",
    "  - Exploratory time series data analysis using histogram, kernel density plot, time-series plot, scatterplot matrix, plots of autocorrelation (i.e. correlogram), and plots of partial autocorrelation \n",
    "  - Statistical estimation and its options available in Python and R\n",
    "  - Simulation of these models o Order selection (using the celebrated Box-Jenkins approach)\n",
    "  - Assumption testing and model evaluation \n",
    "  - Forecasting"
   ]
  },
  {
   "cell_type": "markdown",
   "metadata": {},
   "source": [
    "# Outline of the Tutorial\n",
    "\n",
    "### 1. Introduction\n",
    "\n",
    "  - 1.1 Common use cases from different disciplines\n",
    "  - 1.2 Common characteristics of time series\n",
    "  - 1.3 The class of models to be covered today: A demo\n",
    "  - Exercise 1\n",
    "  \n",
    "### 2. ETSDA, ARIMA Model Formulation\n",
    "  - 2.1 The notion of stochastic processes, time series, and stationarity\n",
    "  - 2.2 Exploratory Time Series Data Analysis\n",
    "  - 2.3 Mathematical formulation of ARIMA models\n",
    "  - 2.4 The Box-Jenkins Approach to ARIMA Modeling\n",
    "  - Exercise 2\n",
    "  \n",
    "### 3. ARIMA Modeling\n",
    "  - 3.1 Model Identification\n",
    "  - 3.2 Model Diagnostic Checking\n",
    "  - 3.3 Model performane evaluation (in-sample fit)\n",
    "  - 3.4 Forecasting and forecast evaluation \n",
    "  - 3.5 A few words on adding explanatory variables, its use cases, and its practical suggestions\n",
    "  - Exercise 3\n",
    "\n",
    "### 4. SARIMA  Modeling\n",
    "  - 4.1 Mathematical formulation of Seasonal ARIMA (SARIMA) models\n",
    "  - 4.2 Building a seasonal ARIMA model for forecasting\n",
    "  - Exercise 4\n",
    "\n",
    "### 5. Closing Remarks: Practical suggestions and other topics\n",
    "  - 5.1 Model selection heuristics\n",
    "  - 5.2 Where to go from here"
   ]
  },
  {
   "cell_type": "markdown",
   "metadata": {},
   "source": [
    "<div class=\"alert alert-success\"> Note: You may note that these notebooks are, at times, fairly dense. That is because there is likely more material here than we can cover today. This was done on purpose, as there is a lot to know. My hope is that you can continue your exploration of the topic with these notebooks, even after the tutorial has ended. </div>"
   ]
  },
  {
   "cell_type": "code",
   "execution_count": null,
   "metadata": {
    "collapsed": true
   },
   "outputs": [],
   "source": [
    "%load_ext autoreload\n",
    "%autoreload 2\n",
    "%matplotlib inline\n",
    "%config InlineBackend.figure_format='retina'\n",
    "\n",
    "from __future__ import absolute_import, division, print_function\n",
    "\n",
    "import pandas as pd\n",
    "import numpy as np\n",
    "\n",
    "import statsmodels.api as sm\n",
    "import statsmodels.formula.api as smf\n",
    "import statsmodels.tsa.api as smt\n",
    "\n",
    "# Display and Plotting\n",
    "import matplotlib.pylab as plt\n",
    "import seaborn as sns\n",
    "\n",
    "from ipywidgets import interactive, widgets, RadioButtons, ToggleButton, Select, FloatSlider, FloatRangeSlider, IntSlider, fixed\n",
    "\n",
    "pd.set_option('display.float_format', lambda x: '%.5f' % x) # pandas\n",
    "np.set_printoptions(precision=5, suppress=True) # numpy\n",
    "\n",
    "pd.set_option('display.max_columns', 100)\n",
    "pd.set_option('display.max_rows', 100)\n",
    "\n",
    "# seaborn plotting style\n",
    "sns.set(style='ticks', context='poster')"
   ]
  },
  {
   "cell_type": "markdown",
   "metadata": {},
   "source": [
    "# 1. Introduction\n",
    "  - 1.1 Common use cases from different disciplines\n",
    "  - 1.2 Common characteristics of time series\n",
    "  - 1.3 The class of models to be covered today: A demo"
   ]
  },
  {
   "cell_type": "markdown",
   "metadata": {
    "collapsed": true
   },
   "source": [
    "## 1.1 Common Use Cases"
   ]
  },
  {
   "cell_type": "markdown",
   "metadata": {
    "collapsed": true
   },
   "source": [
    "- Government Budget and Key Economic Indicator Projections\n",
    "- Companies forecast sales \n",
    "- CMS Projection on National Health Expenditure\n",
    "- NCES Projections of Education Statistics\n",
    "- Vehicular traffic flow forecasting\n",
    "- Dynamic resource allocation (e.g., servers)\n",
    "- Physiological models for health monitoring (e.g., glucose levels in diabetics)"
   ]
  },
  {
   "cell_type": "markdown",
   "metadata": {},
   "source": [
    "## 1.2 Common characteristics of time series"
   ]
  },
  {
   "cell_type": "markdown",
   "metadata": {
    "collapsed": true
   },
   "source": [
    "* Trend\n",
    "* Seasonality\n",
    "* Cycles\n",
    "* Combination of the above"
   ]
  },
  {
   "cell_type": "markdown",
   "metadata": {},
   "source": [
    "### Pattern 1: Trend and Fluctuation around the Trend\n",
    "\n",
    "Airline Passenger Bookings\n",
    "\n",
    "https://datamarket.com/data/set/22u3/international-airline-passengers-monthly-totals-in-thousands-jan-49-dec-60\n",
    "- `data/international-airline-passengers.csv`\n"
   ]
  },
  {
   "cell_type": "code",
   "execution_count": null,
   "metadata": {
    "collapsed": true
   },
   "outputs": [],
   "source": [
    "air = pd.read_csv('data/international-airline-passengers.csv', header=0, index_col=0, parse_dates=[0])"
   ]
  },
  {
   "cell_type": "code",
   "execution_count": null,
   "metadata": {
    "collapsed": false
   },
   "outputs": [],
   "source": [
    "fig, ax = plt.subplots(figsize=(8,6));\n",
    "\n",
    "air['n_pass_thousands'].plot(ax=ax);\n",
    "\n",
    "ax.set_title('International airline passengers, 1949-1960');\n",
    "ax.set_ylabel('Thousands of passengers');\n",
    "ax.set_xlabel('Year');\n",
    "ax.xaxis.set_ticks_position('bottom')\n",
    "fig.tight_layout();"
   ]
  },
  {
   "cell_type": "code",
   "execution_count": null,
   "metadata": {
    "collapsed": false
   },
   "outputs": [],
   "source": [
    "# Examine annual trend in the data\n",
    "fig, ax = plt.subplots(figsize=(8,6));\n",
    "\n",
    "air['n_pass_thousands'].resample('AS').sum().plot(ax=ax)\n",
    "\n",
    "# ax.set_title('Aggregated annual series: International airline passengers, 1949-1960');\n",
    "fig.suptitle('Aggregated annual series: International airline passengers, 1949-1960');\n",
    "ax.set_ylabel('Thousands of passengers');\n",
    "ax.set_xlabel('Year');\n",
    "ax.xaxis.set_ticks_position('bottom')\n",
    "fig.tight_layout();\n",
    "fig.subplots_adjust(top=0.9)"
   ]
  },
  {
   "cell_type": "code",
   "execution_count": null,
   "metadata": {
    "collapsed": false
   },
   "outputs": [],
   "source": [
    "# Examine seasonal trend in the data\n",
    "air['Month'] = air.index.strftime('%b')\n",
    "air['Year'] = air.index.year\n",
    "\n",
    "air_piv = air.pivot(index='Year', columns='Month', values='n_pass_thousands')\n",
    "\n",
    "air = air.drop(['Month', 'Year'], axis=1)\n",
    "\n",
    "# put the months in order\n",
    "month_names = pd.date_range(start='2016-01-01', periods=12, freq='MS').strftime('%b')\n",
    "air_piv = air_piv.reindex(columns=month_names)\n",
    "\n",
    "# plot it\n",
    "fig, ax = plt.subplots(figsize=(8, 6))\n",
    "air_piv.plot(ax=ax, kind='box');\n",
    "\n",
    "ax.set_xlabel('Month');\n",
    "ax.set_ylabel('Thousands of passengers');\n",
    "ax.set_title('Boxplot of seasonal values');\n",
    "ax.xaxis.set_ticks_position('bottom')\n",
    "fig.tight_layout();"
   ]
  },
  {
   "cell_type": "markdown",
   "metadata": {},
   "source": [
    "### Pattern 2: Trend and Change in Structure\n",
    "\n",
    "Annual Average Global Temperature Change\n",
    "\n",
    "http://data.giss.nasa.gov/gistemp/graphs/graph_files.html - Land-Ocean: Global Means\n",
    "- `data/mixedGLB.Ts.ERSSTV4.GHCN.CL.PA.csv`"
   ]
  },
  {
   "cell_type": "code",
   "execution_count": null,
   "metadata": {
    "collapsed": false
   },
   "outputs": [],
   "source": [
    "gtemp = pd.read_csv('data/mixedGLB.Ts.ERSSTV4.GHCN.CL.PA.csv', header=1, index_col=0, parse_dates=[0])\n",
    "gtemp['avg'] = gtemp.iloc[:,:12].mean(axis=1)\n",
    "\n",
    "fig, ax = plt.subplots(figsize=(8, 6));\n",
    "\n",
    "gtemp['avg'].plot(ax=ax);\n",
    "\n",
    "ax.set_title('Annual Average Global Temperature Change');\n",
    "\n",
    "ylim = (-1.0, 1.5)\n",
    "ax.set_ylim(ylim)\n",
    "\n",
    "ax.fill_betweenx(ylim, gtemp.index[0], pd.Timestamp('1922'), alpha=.1, zorder=-1, color='b');\n",
    "ax.fill_betweenx(ylim, pd.Timestamp('1922'), pd.Timestamp('1965'), alpha=.1, zorder=-1, color='g');\n",
    "ax.fill_betweenx(ylim, pd.Timestamp('1965'), gtemp.index[-1], alpha=.1, zorder=-1, color='r');\n",
    "\n",
    "ax.annotate('$\\\\longrightarrow$', (gtemp.index[15], -0.8));\n",
    "ax.annotate('$\\\\nearrow$', (gtemp.index[-30], 0));\n",
    "ax.xaxis.set_ticks_position('bottom')\n",
    "fig.tight_layout();"
   ]
  },
  {
   "cell_type": "markdown",
   "metadata": {},
   "source": [
    "### Pattern 3: Variation around a Stable Mean\n",
    "\n",
    "Dow Jones Industrial Average\n",
    "- `data/dji.csv`\n",
    "\n",
    "```python\n",
    "import pandas_datareader.data as web\n",
    "\n",
    "start = pd.Timestamp('2006-04-20')\n",
    "end = pd.Timestamp('2016-04-20')\n",
    "\n",
    "dji = web.DataReader(\"^DJI\", 'yahoo', start, end)\n",
    "\n",
    "dji['Return_log'] = dji['Close'].apply(lambda x: np.log(x)).diff()\n",
    "\n",
    "dji.to_csv('data/dji.csv')\n",
    "```"
   ]
  },
  {
   "cell_type": "code",
   "execution_count": null,
   "metadata": {
    "collapsed": false
   },
   "outputs": [],
   "source": [
    "dji = pd.read_csv('data/dji.csv', header=0, index_col=0)\n",
    "\n",
    "fig, ax = plt.subplots(figsize=(8, 7))\n",
    "\n",
    "dji['Return_log'].plot(ax=ax);\n",
    "\n",
    "ax.set_title('Dow Jones Industrial returns, 2006-2016');\n",
    "ax.xaxis.set_ticks_position('bottom')\n",
    "fig.tight_layout();"
   ]
  },
  {
   "cell_type": "markdown",
   "metadata": {},
   "source": [
    "### Pattern 4: Cycles/Periodicity\n",
    "\n",
    "Number of annual sunspots"
   ]
  },
  {
   "cell_type": "code",
   "execution_count": null,
   "metadata": {
    "collapsed": false
   },
   "outputs": [],
   "source": [
    "print(sm.datasets.sunspots.NOTE)"
   ]
  },
  {
   "cell_type": "code",
   "execution_count": null,
   "metadata": {
    "collapsed": false
   },
   "outputs": [],
   "source": [
    "sun = sm.datasets.sunspots.load_pandas().data\n",
    "sun['YEAR'] = pd.to_datetime(sun['YEAR'].astype(int), format='%Y')\n",
    "sun = sun.set_index('YEAR')"
   ]
  },
  {
   "cell_type": "code",
   "execution_count": null,
   "metadata": {
    "collapsed": true
   },
   "outputs": [],
   "source": [
    "def tsplot(y, lags=None, title='', figsize=(14, 8)):\n",
    "    '''Examine the patterns of ACF and PACF, along with the time series plot and histogram.\n",
    "    \n",
    "    Original source: https://tomaugspurger.github.io/modern-7-timeseries.html\n",
    "    '''\n",
    "    fig = plt.figure(figsize=figsize)\n",
    "    layout = (2, 2)\n",
    "    ts_ax   = plt.subplot2grid(layout, (0, 0))\n",
    "    hist_ax = plt.subplot2grid(layout, (0, 1))\n",
    "    acf_ax  = plt.subplot2grid(layout, (1, 0))\n",
    "    pacf_ax = plt.subplot2grid(layout, (1, 1))\n",
    "    \n",
    "    y.plot(ax=ts_ax)\n",
    "    ts_ax.set_title(title)\n",
    "    y.plot(ax=hist_ax, kind='hist', bins=25)\n",
    "    hist_ax.set_title('Histogram')\n",
    "    smt.graphics.plot_acf(y, lags=lags, ax=acf_ax)\n",
    "    smt.graphics.plot_pacf(y, lags=lags, ax=pacf_ax)\n",
    "    [ax.set_xlim(0) for ax in [acf_ax, pacf_ax]]\n",
    "    sns.despine()\n",
    "    plt.tight_layout()\n",
    "    return ts_ax, acf_ax, pacf_ax"
   ]
  },
  {
   "cell_type": "code",
   "execution_count": null,
   "metadata": {
    "collapsed": false
   },
   "outputs": [],
   "source": [
    "tsplot(sun, lags=40);"
   ]
  },
  {
   "cell_type": "markdown",
   "metadata": {},
   "source": [
    "## 1.3 Demo: Plot and model data generated from ARIMA process"
   ]
  },
  {
   "cell_type": "code",
   "execution_count": null,
   "metadata": {
    "collapsed": true
   },
   "outputs": [],
   "source": [
    "def generate_arima_data(arparams,\n",
    "                        maparams,\n",
    "                        i_order=0,\n",
    "                        n_samp=120,\n",
    "                        rng_state=None,\n",
    "                        sigma=1,\n",
    "                        burnin=10,\n",
    "                        lin_trend=None,\n",
    "                        verbose=True,\n",
    "                        ):\n",
    "    \n",
    "    if rng_state is None:\n",
    "        rng_state = np.random.RandomState()\n",
    "    ar = np.r_[1, -arparams] # add zero-lag and negate\n",
    "    ma = np.r_[1, maparams] # add zero-lag\n",
    "    \n",
    "    if verbose:\n",
    "        arma_process = sm.tsa.ArmaProcess(ar, ma, nobs=n_samp)\n",
    "        print('Is the process stationary? {}'.format(arma_process.isstationary))\n",
    "        print('Is the process invertible? {}'.format(arma_process.isinvertible))\n",
    "\n",
    "    y = sm.tsa.arma_generate_sample(ar, ma, n_samp, sigma=sigma, distrvs=rng_state.randn, burnin=burnin)\n",
    "    # add deterministic linear trend\n",
    "    if lin_trend is not None:\n",
    "        y = y + np.cumsum(np.repeat(lin_trend, n_samp))\n",
    "    for i in range(i_order):\n",
    "        y = y.cumsum()\n",
    "    \n",
    "    return y"
   ]
  },
  {
   "cell_type": "code",
   "execution_count": null,
   "metadata": {
    "collapsed": true
   },
   "outputs": [],
   "source": [
    "# the function for generating data and plotting\n",
    "def arima_data(n_samp=120,\n",
    "               ar_order=0,\n",
    "               ar_lag1=0,\n",
    "               ar_lag2=0,\n",
    "               ar_lag3=0,\n",
    "               ar_lag4=0,\n",
    "               i_order=0,\n",
    "               ma_order=0,\n",
    "               ma_lag1=0,\n",
    "               ma_lag2=0,\n",
    "               ma_lag3=0,\n",
    "               ma_lag4=0,\n",
    "               rand_state=42,\n",
    "               ylim=5,\n",
    "               p=0,\n",
    "               d=0,\n",
    "               q=0,\n",
    "               n_train=108,\n",
    "               n_forecast=24,\n",
    "               dynamic=False,\n",
    "               lin_trend=None,\n",
    "               verbose=True,\n",
    "               ):\n",
    "    \n",
    "    rng_state = np.random.RandomState(rand_state)\n",
    "\n",
    "    arparams = np.array([ar_lag1, ar_lag2, ar_lag3, ar_lag4])\n",
    "    arparams = arparams[:ar_order]\n",
    "    maparams = np.array([ma_lag1, ma_lag2, ma_lag3, ma_lag4])\n",
    "    maparams = maparams[:ma_order]\n",
    "    \n",
    "    print('Generated ARIMA({}, {}, {})'.format(ar_order, i_order, ma_order))\n",
    "    print('AR coeff = {}, MA coeff = {}'.format(arparams, maparams))\n",
    "    \n",
    "    y = generate_arima_data(arparams,\n",
    "                            maparams,\n",
    "                            i_order,\n",
    "                            n_samp=n_samp,\n",
    "                            rng_state=rng_state,\n",
    "                            lin_trend=lin_trend,\n",
    "                            verbose=verbose,\n",
    "                            )\n",
    "    \n",
    "    # set a fake DatetimeIndex\n",
    "    df = pd.DataFrame(data=y, columns=['value'], index=pd.date_range(start='1990-01-01', freq='MS', periods=len(y)))\n",
    "    \n",
    "    fig, (ax1, ax2) = plt.subplots(nrows=1, ncols=2, figsize=(16, 5))\n",
    "    \n",
    "    #     # no DatetimeIndex\n",
    "    #     ax1.plot(y[:n_train], label='In-sample data', linestyle='-')\n",
    "    #     # subtract 1 only to connect it to previous point in the graph\n",
    "    #     ax1.plot(np.arange(n_train-1, len(y), 1), y[n_train-1:], label='Held-out data', linestyle='--')\n",
    "    \n",
    "    # yes DatetimeIndex\n",
    "    ax1.plot(df.iloc[:n_train]['value'], label='In-sample data', linestyle='-')\n",
    "    # subtract 1 only to connect it to previous point in the graph\n",
    "    ax1.plot(df.iloc[n_train-1:]['value'], label='Held-out data', linestyle='--')\n",
    "\n",
    "    fitting=False\n",
    "    if (((ar_order > 0) and (ar_lag1 != 0)) or ((ma_order > 0) and (ma_lag1 != 0))) and ((p > 0) or (q > 0)):\n",
    "        fitting=True\n",
    "        print('Fit ARIMA({}, {}, {})'.format(p, d, q))\n",
    "        # # no DatetimeIndex\n",
    "        # training = y[:n_train]\n",
    "        \n",
    "        # yes DatetimeIndex\n",
    "        training = df.iloc[:n_train]['value']\n",
    "        \n",
    "        if (lin_trend is not None) and (lin_trend > 0):\n",
    "            #trend='t'\n",
    "            \n",
    "            # there's a bug in statsmodels 0.8.0rc1 regarding trend that has been fixed\n",
    "            # https://github.com/statsmodels/statsmodels/issues/3111\n",
    "            trend='n'\n",
    "        else:\n",
    "            trend='n'\n",
    "        model = sm.tsa.SARIMAX(training, order=(p, d, q),\n",
    "                               trend=trend,\n",
    "                               enforce_stationarity=False,\n",
    "                               enforce_invertibility=False,\n",
    "                               )\n",
    "        results = model.fit()\n",
    "        \n",
    "        #         # no DatetimeIndex\n",
    "        #         pred_begin = results.loglikelihood_burn\n",
    "        #         pred_end = n_train + n_forecast - 1\n",
    "        #         pred = results.get_prediction(start=pred_begin,\n",
    "        #                                       end=pred_end,\n",
    "        #                                       dynamic=dynamic)\n",
    "        #         pred_mean = pred.predicted_mean\n",
    "        #         pred_ci = pred.conf_int(alpha=0.05)\n",
    "\n",
    "        #         # overwrite the index if necessary so it plots correctly\n",
    "        #         pred_ci.index = pd.RangeIndex(start=pred_begin, stop=pred_end+1)\n",
    "        #\n",
    "        #         ax1.plot(np.arange(pred_begin, pred_end+1, 1), pred_mean, 'r', alpha=.6, label='Predicted values')\n",
    "        #         ax1.fill_between(pred_ci.index,\n",
    "        #                          pred_ci.iloc[:, 0],\n",
    "        #                          pred_ci.iloc[:, 1], color='k', alpha=.2)\n",
    "        #         ax1.set_xlim((0, n_train+n_forecast-1))\n",
    "        #         # plot the residuals\n",
    "        #         resid = y[pred_begin:] - pred_mean[:-(len(pred_mean) + results.loglikelihood_burn - len(y))]\n",
    "        #         ax2.plot(resid, marker='o')\n",
    "        #         ax2.set_xlim((0, n_train+n_forecast-1))\n",
    "        #         ax2.set_title('Residuals ($data - model$)');\n",
    "        #         ax2.axhline(y=0, linestyle='--', color='k', alpha=.5);\n",
    "        \n",
    "        # yes DatetimeIndex\n",
    "        pred_begin = df.index[results.loglikelihood_burn]\n",
    "        pred_end =  df.index[n_train] + pd.DateOffset(months = n_forecast - 1)\n",
    "        pred = results.get_prediction(start=pred_begin.strftime('%Y-%m-%d'),\n",
    "                                      end=pred_end.strftime('%Y-%m-%d'),\n",
    "                                      dynamic=dynamic)\n",
    "        pred_mean = pred.predicted_mean\n",
    "        pred_ci = pred.conf_int(alpha=0.05)\n",
    "        \n",
    "        ax1.plot(pred_mean, 'r', alpha=.6, label='Predicted values')\n",
    "        ax1.fill_between(pred_ci.index,\n",
    "                         pred_ci.iloc[:, 0],\n",
    "                         pred_ci.iloc[:, 1], color='k', alpha=.2)\n",
    "        # plot the residuals\n",
    "        (df['value'] - pred_mean).dropna().plot(ax=ax2, marker='o')\n",
    "        ax2.set_xlim((df.index[0], pred_end))\n",
    "        ax2.set_title('Residuals ($data - model$)');\n",
    "        ax2.axhline(y=0, linestyle='--', color='k', alpha=.5);\n",
    "        \n",
    "    # scale with i_order\n",
    "    ylim = ylim*(10**(i_order))\n",
    "    ax1.set_ylim((-ylim, ylim));\n",
    "    ax1.legend(loc='best');\n",
    "    \n",
    "    if fitting:\n",
    "        #         # no DatetimeIndex\n",
    "        #         ax1.fill_betweenx(ax1.get_ylim(), n_train, pred_end, alpha=.1, zorder=-1)\n",
    "        #         ax2.fill_betweenx(ax2.get_ylim(), n_train, pred_end, alpha=.1, zorder=-1)\n",
    "        \n",
    "        # yes DatetimeIndex\n",
    "        ax1.fill_betweenx(ax1.get_ylim(), df.index[n_train], pred_end, alpha=.1, zorder=-1)\n",
    "        ax2.fill_betweenx(ax2.get_ylim(), df.index[n_train], pred_end, alpha=.1, zorder=-1)\n",
    "        plt.show();\n",
    "        print(results.summary())\n",
    "    #fig.tight_layout()\n",
    "    pass"
   ]
  },
  {
   "cell_type": "code",
   "execution_count": null,
   "metadata": {
    "collapsed": false
   },
   "outputs": [],
   "source": [
    "# set up the widgets\n",
    "n_samp=120\n",
    "\n",
    "n_train=108\n",
    "n_forecast=24\n",
    "\n",
    "rand_state_init=42\n",
    "ylim_init=5\n",
    "\n",
    "# orders\n",
    "int_min = 0\n",
    "int_max = 4\n",
    "int_step = 1\n",
    "\n",
    "ar_slider = IntSlider(value=0, min=int_min, max=int_max, step=int_step, continuous_update=False)\n",
    "i_slider = IntSlider(value=0, min=int_min, max=int_max, step=int_step, continuous_update=False)\n",
    "ma_slider = IntSlider(value=0, min=int_min, max=int_max, step=int_step, continuous_update=False)\n",
    "\n",
    "# coefficients\n",
    "lag_min = -1\n",
    "lag_max = 1\n",
    "lag_step = 0.1\n",
    "\n",
    "ar_lag1_slider = FloatSlider(value=0, min=lag_min, max=lag_max, step=lag_step, continuous_update=False)\n",
    "ar_lag2_slider = FloatSlider(value=0, min=lag_min, max=lag_max, step=lag_step, continuous_update=False)\n",
    "ar_lag3_slider = FloatSlider(value=0, min=lag_min, max=lag_max, step=lag_step, continuous_update=False)\n",
    "ar_lag4_slider = FloatSlider(value=0, min=lag_min, max=lag_max, step=lag_step, continuous_update=False)\n",
    "\n",
    "ma_lag1_slider = FloatSlider(value=0, min=lag_min, max=lag_max, step=lag_step, continuous_update=False)\n",
    "ma_lag2_slider = FloatSlider(value=0, min=lag_min, max=lag_max, step=lag_step, continuous_update=False)\n",
    "ma_lag3_slider = FloatSlider(value=0, min=lag_min, max=lag_max, step=lag_step, continuous_update=False)\n",
    "ma_lag4_slider = FloatSlider(value=0, min=lag_min, max=lag_max, step=lag_step, continuous_update=False)\n",
    "\n",
    "rand_slider = IntSlider(value=rand_state_init, min=0, max=10000, step=1, continuous_update=False)\n",
    "ylim_slider = IntSlider(value=ylim_init, min=1, max=100, step=1, continuous_update=False)\n",
    "\n",
    "p_init=0\n",
    "d_init=0\n",
    "q_init=0\n",
    "p_slider = IntSlider(value=p_init, min=int_min, max=int_max, step=int_step, continuous_update=False)\n",
    "d_slider = IntSlider(value=d_init, min=int_min, max=int_max, step=int_step, continuous_update=False)\n",
    "q_slider = IntSlider(value=q_init, min=int_min, max=int_max, step=int_step, continuous_update=False)\n",
    "\n",
    "# dynamic_init=n_train\n",
    "# dynamic_slider = IntSlider(value=dynamic_init, min=n_train-10, max=n_train+1, step=int_step, continuous_update=False)\n",
    "\n",
    "# lin_trend_init = 0\n",
    "# lin_trend_slider = FloatSlider(value=lin_trend_init, min=0, max=1.0, step=0.1, continuous_update=False)\n",
    "\n",
    "arima_w = interactive(\n",
    "    arima_data,\n",
    "    n_samp=fixed(n_samp),\n",
    "    ar_order=ar_slider,\n",
    "    ar_lag1=ar_lag1_slider,\n",
    "    ar_lag2=ar_lag2_slider,\n",
    "    ar_lag3=ar_lag3_slider,\n",
    "    ar_lag4=ar_lag4_slider,\n",
    "    i_order=i_slider,\n",
    "    ma_order=ma_slider,\n",
    "    ma_lag1=ma_lag1_slider,\n",
    "    ma_lag2=ma_lag2_slider,\n",
    "    ma_lag3=ma_lag3_slider,\n",
    "    ma_lag4=ma_lag4_slider,\n",
    "    rand_state=rand_slider,\n",
    "    ylim=ylim_slider,\n",
    "    p=p_slider,\n",
    "    d=d_slider,\n",
    "    q=q_slider,\n",
    "    n_train=fixed(n_train),\n",
    "    n_forecast=fixed(n_forecast),\n",
    "    dynamic=fixed(False),\n",
    "    #dynamic=dynamic_slider,\n",
    "    lin_trend=fixed(None),\n",
    "    #lin_trend=lin_trend_slider,\n",
    "    verbose=fixed(True),\n",
    "    )\n",
    "\n",
    "# arrange the widgets\n",
    "arima_widget = widgets.HBox([widgets.VBox(arima_w.children[:11]),\n",
    "                             widgets.VBox(arima_w.children[11:]),\n",
    "                             ])\n",
    "# this is the set of widgets in the function with defaults\n",
    "arima_widget.on_displayed(lambda x: arima_data(ar_order=0,\n",
    "                                                ar_lag1=0,\n",
    "                                                ar_lag2=0,\n",
    "                                                ar_lag3=0,\n",
    "                                                ar_lag4=0,\n",
    "                                                i_order=0,\n",
    "                                                ma_order=0,\n",
    "                                                ma_lag1=0,\n",
    "                                                ma_lag2=0,\n",
    "                                                ma_lag3=0,\n",
    "                                                ma_lag4=0,\n",
    "                                                rand_state=rand_state_init,\n",
    "                                                ylim=ylim_init,\n",
    "                                                p=p_init,\n",
    "                                                d=d_init,\n",
    "                                                q=q_init,\n",
    "                                                n_train=n_train,\n",
    "                                                #dynamic=dynamic_init,\n",
    "                                                #lin_trend=lin_trend_init,\n",
    "                                                ))"
   ]
  },
  {
   "cell_type": "code",
   "execution_count": null,
   "metadata": {
    "collapsed": false
   },
   "outputs": [],
   "source": [
    "arima_widget"
   ]
  },
  {
   "cell_type": "markdown",
   "metadata": {
    "collapsed": true
   },
   "source": [
    "### Exericse 1\n",
    "\n",
    "1. Write down 2 - 4 examples of time series that you encouter in real life.\n",
    "2. Use the widget above to simulate a number of time series. Are there any of them that resemble the ones that you encounter in real life?"
   ]
  },
  {
   "cell_type": "code",
   "execution_count": null,
   "metadata": {
    "collapsed": true
   },
   "outputs": [],
   "source": []
  }
 ],
 "metadata": {
  "kernelspec": {
   "display_name": "Python 3",
   "language": "python",
   "name": "python3"
  },
  "language_info": {
   "codemirror_mode": {
    "name": "ipython",
    "version": 3
   },
   "file_extension": ".py",
   "mimetype": "text/x-python",
   "name": "python",
   "nbconvert_exporter": "python",
   "pygments_lexer": "ipython3",
   "version": "3.5.2"
  }
 },
 "nbformat": 4,
 "nbformat_minor": 0
}
